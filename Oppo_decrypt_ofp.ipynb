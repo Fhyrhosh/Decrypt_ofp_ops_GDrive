{
  "nbformat": 4,
  "nbformat_minor": 0,
  "metadata": {
    "colab": {
      "provenance": [],
      "mount_file_id": "1BKzdnwQwvSLL5dwCvLSRkIfm62bLxsmE",
      "authorship_tag": "ABX9TyPhdFTVH36MZbbJihlTQu42",
      "include_colab_link": true
    },
    "kernelspec": {
      "name": "python3",
      "display_name": "Python 3"
    },
    "language_info": {
      "name": "python"
    }
  },
  "cells": [
    {
      "cell_type": "markdown",
      "metadata": {
        "id": "view-in-github",
        "colab_type": "text"
      },
      "source": [
        "<a href=\"https://colab.research.google.com/github/Fhyrhosh/oppo_decrypt/blob/master/Oppo_decrypt_ofp.ipynb\" target=\"_parent\"><img src=\"https://colab.research.google.com/assets/colab-badge.svg\" alt=\"Open In Colab\"/></a>"
      ]
    },
    {
      "cell_type": "markdown",
      "source": [
        "## **Ofp extractor di buat oleh Bjoern Kerler (bkerler) yang berguna untuk mengectract firmware oppo yang berfrmat ofp sehingga bisa di gunakan tool pihak ketiga**\n"
      ],
      "metadata": {
        "id": "fpEBds6-6Qv9"
      }
    },
    {
      "cell_type": "markdown",
      "source": [
        "## 1. Mount your GDrive\n",
        "## 2. Copy/Upload <a href=\"https://github.com/Fhyrhosh/oppo_decrypt\"> this files</a> to your GDrive"
      ],
      "metadata": {
        "id": "2sGnnUXfEIj6"
      }
    },
    {
      "cell_type": "code",
      "execution_count": null,
      "metadata": {
        "id": "W2Qmvr8T6LiR"
      },
      "outputs": [],
      "source": [
        "from google.colab import drive\n",
        "drive.mount('/content/drive')"
      ]
    },
    {
      "cell_type": "code",
      "source": [
        "!git clone \"https://github.com/Fhyrhosh/oppo_decrypt\" \"/content/drive/MyDrive/github\""
      ],
      "metadata": {
        "id": "dMpwgVR1JjkK"
      },
      "execution_count": null,
      "outputs": []
    },
    {
      "cell_type": "markdown",
      "source": [
        "## 3. install requirement\n",
        "    pycrypto\n",
        "    docopt"
      ],
      "metadata": {
        "id": "xEI9TozR973x"
      }
    },
    {
      "cell_type": "code",
      "source": [
        "!pip install pycrypto docopt"
      ],
      "metadata": {
        "id": "0Vqk-MZD94_m"
      },
      "execution_count": null,
      "outputs": []
    },
    {
      "cell_type": "markdown",
      "source": [
        "## 4. Make it run"
      ],
      "metadata": {
        "id": "xfEcMGs4EhxC"
      }
    },
    {
      "cell_type": "markdown",
      "source": [
        "Qualcoom "
      ],
      "metadata": {
        "id": "WdvxKfIsEwlr"
      }
    },
    {
      "cell_type": "code",
      "source": [
        "!python \"/conten/MyDrive/oppo_decrypt-master/ofp_qc_decrypt.py\" \".Ofp FIle\" \"output extraction\""
      ],
      "metadata": {
        "id": "PhPs6hj4E7Ur"
      },
      "execution_count": null,
      "outputs": []
    },
    {
      "cell_type": "markdown",
      "source": [
        "Mediatek"
      ],
      "metadata": {
        "id": "cua0qHmJE3oV"
      }
    },
    {
      "cell_type": "code",
      "source": [
        "!python \"/conten/MyDrive/oppo_decrypt-master/ofp_mtk_decrypt.py\" \".Ofp FIle\" \"output extraction\""
      ],
      "metadata": {
        "id": "kfTfRXz1F3bi"
      },
      "execution_count": null,
      "outputs": []
    }
  ]
}