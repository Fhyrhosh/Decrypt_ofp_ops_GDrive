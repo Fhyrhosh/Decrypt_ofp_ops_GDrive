{
  "nbformat": 4,
  "nbformat_minor": 0,
  "metadata": {
    "colab": {
      "provenance": [],
      "collapsed_sections": [
        "2sGnnUXfEIj6",
        "xEI9TozR973x"
      ],
      "mount_file_id": "1BKzdnwQwvSLL5dwCvLSRkIfm62bLxsmE",
      "authorship_tag": "ABX9TyPYBfAil/M92Qy07lSw+eNo",
      "include_colab_link": true
    },
    "kernelspec": {
      "name": "python3",
      "display_name": "Python 3"
    },
    "language_info": {
      "name": "python"
    }
  },
  "cells": [
    {
      "cell_type": "markdown",
      "metadata": {
        "id": "view-in-github",
        "colab_type": "text"
      },
      "source": [
        "<a href=\"https://colab.research.google.com/github/Fhyrhosh/oppo_decrypt/blob/master/Oppo_decrypt_ofp.ipynb\" target=\"_parent\"><img src=\"https://colab.research.google.com/assets/colab-badge.svg\" alt=\"Open In Colab\"/></a>"
      ]
    },
    {
      "cell_type": "markdown",
      "source": [
        "## **OPPO_DECRYPT** \n",
        "\n",
        "# **Oppo .ofp and Oneplus .ops Firmware decrypter**\n",
        " \n",
        "\n",
        "*   Quaolcomm : Decrypts oppo qc chipset based firmware with .ofp extension (oppo)\n",
        "*    Mediatek : Decrypts oppo mtk chipset based firmware with .ofp extension (oppo)\n",
        "*   Oneplus : Decrypts and re-encrypts based firmware with .ops extension (oneplus)\n",
        "\n"
      ],
      "metadata": {
        "id": "fpEBds6-6Qv9"
      }
    },
    {
      "cell_type": "markdown",
      "source": [
        "##__1. First step__"
      ],
      "metadata": {
        "id": "2sGnnUXfEIj6"
      }
    },
    {
      "cell_type": "code",
      "execution_count": null,
      "metadata": {
        "id": "W2Qmvr8T6LiR",
        "cellView": "form"
      },
      "outputs": [],
      "source": [
        "#@title Mount your GDrive\n",
        "from google.colab import drive\n",
        "drive.mount('/content/drive')"
      ]
    },
    {
      "cell_type": "code",
      "source": [
        "#@title auto Copy/Upload <a href=\"https://github.com/Fhyrhosh/oppo_decrypt\"> this files</a> to your GDrive\n",
        "!git clone \"https://github.com/Fhyrhosh/oppo_decrypt\" \"/content/drive/MyDrive/ofpDecryptor\""
      ],
      "metadata": {
        "id": "dMpwgVR1JjkK",
        "cellView": "form"
      },
      "execution_count": null,
      "outputs": []
    },
    {
      "cell_type": "markdown",
      "source": [
        "#__2. Install requirement__\n",
        "    pycrypto\n",
        "    docopt"
      ],
      "metadata": {
        "id": "xEI9TozR973x"
      }
    },
    {
      "cell_type": "code",
      "source": [
        "#@title Install\n",
        "!pip install pycrypto docopt"
      ],
      "metadata": {
        "id": "0Vqk-MZD94_m",
        "cellView": "form"
      },
      "execution_count": null,
      "outputs": []
    },
    {
      "cell_type": "markdown",
      "source": [
        "#__3. Decrypt .ofp adn .ops file__\n",
        "\n",
        "*   First path in below cell - Your Google Drive ofp file extractor app\n",
        "*   Second path in below cell - Your ofp file location in Drive which you want to unpack\n",
        "*   Third path in below cell - Path where you want to unpack the ofp file in Google Drive\n",
        "\n",
        "\n",
        "\n",
        "\n"
      ],
      "metadata": {
        "id": "xfEcMGs4EhxC"
      }
    },
    {
      "cell_type": "code",
      "source": [
        "#@title Qualcomm \n",
        "!python \"/content/drive/MyDrive/ofpDecryptor/ofp_qc_decrypt.py\" \"path .Ofp FIle\" \"/content/drive/MyDrive/Decrypted\""
      ],
      "metadata": {
        "id": "PhPs6hj4E7Ur",
        "cellView": "form"
      },
      "execution_count": null,
      "outputs": []
    },
    {
      "cell_type": "code",
      "source": [
        "#@title Mediatek\n",
        "!python \"/content/drive/MyDrive/ofpDecryptor/ofp_mtk_decrypt.py\" \"path .Ofp FIle\" \"/content/drive/MyDrive/Decrypted\""
      ],
      "metadata": {
        "id": "kfTfRXz1F3bi",
        "cellView": "form"
      },
      "execution_count": null,
      "outputs": []
    },
    {
      "cell_type": "code",
      "source": [
        "#@title OnePlus \n",
        "!pythosn \"/content/drive/MyDrive/ofpDecryptor/opscrypto.py\" \"path .ops file\" \"/content/drive/MyDrive/Decrypted\""
      ],
      "metadata": {
        "cellView": "form",
        "id": "t1tTU3Z59Q8A"
      },
      "execution_count": null,
      "outputs": []
    },
    {
      "cell_type": "markdown",
      "source": [
        "# Oppo_decrypt made by Bjoern Kerler [bkerler](https://github.com/bkerler) and develop by [Fhyrhosh](https://github.com/fhyrhosh) on Colab\n",
        "# 📚 Follow me on GitHub for more: [_@Fhyrhosh_](https://github.com/fhyrhosh)\n",
        "# 📦 Repo: [Github](https://github.com/Fhyrhosh/oppo_decrypt)"
      ],
      "metadata": {
        "id": "sZCLCxYn7Hw6"
      }
    }
  ]
}